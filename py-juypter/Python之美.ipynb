{
 "cells": [
  {
   "cell_type": "markdown",
   "metadata": {},
   "source": [
    "# python 之美"
   ]
  },
  {
   "cell_type": "code",
   "execution_count": 1,
   "metadata": {},
   "outputs": [
    {
     "data": {
      "text/plain": [
       "[6, 6, 5, 4, 3]"
      ]
     },
     "execution_count": 1,
     "metadata": {},
     "output_type": "execute_result"
    }
   ],
   "source": [
    "# 数组反转\n",
    "\n",
    "[3,4,5,6,6][::-1]"
   ]
  },
  {
   "cell_type": "code",
   "execution_count": 2,
   "metadata": {},
   "outputs": [
    {
     "data": {
      "text/plain": [
       "{'a': 2, 'b': 3}"
      ]
     },
     "execution_count": 2,
     "metadata": {},
     "output_type": "execute_result"
    }
   ],
   "source": [
    "# 字典合并 \n",
    "{**{'a':2},**{'b':3}}"
   ]
  },
  {
   "cell_type": "code",
   "execution_count": 3,
   "metadata": {},
   "outputs": [
    {
     "data": {
      "text/plain": [
       "{1, 2, 3, 4, 5, 6}"
      ]
     },
     "execution_count": 3,
     "metadata": {},
     "output_type": "execute_result"
    }
   ],
   "source": [
    "#集合去重\n",
    "set([1,3,4,5,6,2,4,5,6,2,4,5])"
   ]
  },
  {
   "cell_type": "code",
   "execution_count": 4,
   "metadata": {},
   "outputs": [
    {
     "data": {
      "text/plain": [
       "7"
      ]
     },
     "execution_count": 4,
     "metadata": {},
     "output_type": "execute_result"
    }
   ],
   "source": [
    "# 一行代码查找多个数组中最大值\n",
    "max(max([3,4,5],[3,5,6,9],[6,3,7]))"
   ]
  },
  {
   "cell_type": "code",
   "execution_count": 5,
   "metadata": {},
   "outputs": [
    {
     "data": {
      "text/plain": [
       "[10, 9, 8, 7, 6, 5, 4, 3, 2, 1, 0]"
      ]
     },
     "execution_count": 5,
     "metadata": {},
     "output_type": "execute_result"
    }
   ],
   "source": [
    "# 一行代码生成逆序序列\n",
    "list(range(10,-1,-1))"
   ]
  },
  {
   "cell_type": "code",
   "execution_count": 6,
   "metadata": {},
   "outputs": [
    {
     "data": {
      "text/plain": [
       "43"
      ]
     },
     "execution_count": 6,
     "metadata": {},
     "output_type": "execute_result"
    }
   ],
   "source": [
    "# 绝对值\n",
    "abs(-43)"
   ]
  },
  {
   "cell_type": "code",
   "execution_count": 7,
   "metadata": {},
   "outputs": [
    {
     "data": {
      "text/plain": [
       "False"
      ]
     },
     "execution_count": 7,
     "metadata": {},
     "output_type": "execute_result"
    }
   ],
   "source": [
    "# 全为真\n",
    "all([3,4,5,6,7]) # True\n",
    "all([0,3,44,52]) # False"
   ]
  },
  {
   "cell_type": "code",
   "execution_count": 8,
   "metadata": {},
   "outputs": [
    {
     "data": {
      "text/plain": [
       "True"
      ]
     },
     "execution_count": 8,
     "metadata": {},
     "output_type": "execute_result"
    }
   ],
   "source": [
    "# 至少一个为真\n",
    "any([2,0,[]])"
   ]
  },
  {
   "cell_type": "code",
   "execution_count": 9,
   "metadata": {},
   "outputs": [
    {
     "data": {
      "text/plain": [
       "'0b1010'"
      ]
     },
     "execution_count": 9,
     "metadata": {},
     "output_type": "execute_result"
    }
   ],
   "source": [
    "# 10转2\n",
    "bin(10)"
   ]
  },
  {
   "cell_type": "code",
   "execution_count": 10,
   "metadata": {},
   "outputs": [
    {
     "data": {
      "text/plain": [
       "'0o23'"
      ]
     },
     "execution_count": 10,
     "metadata": {},
     "output_type": "execute_result"
    }
   ],
   "source": [
    "# 10转8\n",
    "oct(19)"
   ]
  },
  {
   "cell_type": "code",
   "execution_count": 11,
   "metadata": {},
   "outputs": [
    {
     "data": {
      "text/plain": [
       "'0xa'"
      ]
     },
     "execution_count": 11,
     "metadata": {},
     "output_type": "execute_result"
    }
   ],
   "source": [
    "# 10转16\n",
    "hex(10)"
   ]
  },
  {
   "cell_type": "code",
   "execution_count": 12,
   "metadata": {},
   "outputs": [
    {
     "data": {
      "text/plain": [
       "True"
      ]
     },
     "execution_count": 12,
     "metadata": {},
     "output_type": "execute_result"
    }
   ],
   "source": [
    "#判断是真是假\n",
    "#测试一个对象是True, 还是False.\n",
    "bool([3,0])"
   ]
  },
  {
   "cell_type": "code",
   "execution_count": 13,
   "metadata": {},
   "outputs": [
    {
     "data": {
      "text/plain": [
       "b'abcd'"
      ]
     },
     "execution_count": 13,
     "metadata": {},
     "output_type": "execute_result"
    }
   ],
   "source": [
    "# 字符串转字节\n",
    "bytes(\"abcd\",encoding='utf-8')"
   ]
  },
  {
   "cell_type": "markdown",
   "metadata": {},
   "source": [
    "- 是否可调用 \n",
    "  - 判断对象是否可被调用，能被调用的对象就是一个 callable 对象，比如函数 str , int 等都是可被调 用的 ，对象可调用必须重写 __call__方法\n"
   ]
  },
  {
   "cell_type": "code",
   "execution_count": 14,
   "metadata": {},
   "outputs": [
    {
     "data": {
      "text/plain": [
       "('A', 'a', 'd')"
      ]
     },
     "execution_count": 14,
     "metadata": {},
     "output_type": "execute_result"
    }
   ],
   "source": [
    "# 10转ASCII\n",
    "chr(65),chr(97),chr(100)"
   ]
  },
  {
   "cell_type": "markdown",
   "metadata": {},
   "source": [
    "- 类方法\n",
    "  - classmethod 装饰器对应的函数不需要实例化，不需要 self 参数，但第一个参数需要是表示自身类 的 cls 参数，可以来调用类的属性，类的方法，实例化对象等\n"
   ]
  },
  {
   "cell_type": "markdown",
   "metadata": {},
   "source": [
    "# 执行字符串表示的代码\n",
    "- 将字符串编译成python能识别或可执行的代码，也可以将文字读成字符串再编译"
   ]
  },
  {
   "cell_type": "code",
   "execution_count": 15,
   "metadata": {},
   "outputs": [],
   "source": [
    "s = \"print('helloworld')\"\n",
    "r=compile(s,'<string>',\"exec\")"
   ]
  },
  {
   "cell_type": "code",
   "execution_count": 16,
   "metadata": {},
   "outputs": [
    {
     "name": "stdout",
     "output_type": "stream",
     "text": [
      "helloworld\n"
     ]
    }
   ],
   "source": [
    "exec(r)"
   ]
  },
  {
   "cell_type": "code",
   "execution_count": 17,
   "metadata": {},
   "outputs": [
    {
     "data": {
      "text/plain": [
       "(2+3j)"
      ]
     },
     "execution_count": 17,
     "metadata": {},
     "output_type": "execute_result"
    }
   ],
   "source": [
    "# 创建复数\n",
    "\n",
    "complex(2,3)"
   ]
  },
  {
   "cell_type": "markdown",
   "metadata": {},
   "source": [
    "##  动态删除属性\n",
    "- 删除对象的属性\n",
    "- delattr(object)\n",
    "- hasattr(object)"
   ]
  },
  {
   "cell_type": "code",
   "execution_count": 18,
   "metadata": {},
   "outputs": [
    {
     "data": {
      "text/plain": [
       "({'a': 'a', 'b': 'b'}, {'a': 1, 'b': 3, 'c': 3}, {'a': 'f', 1: 3})"
      ]
     },
     "execution_count": 18,
     "metadata": {},
     "output_type": "execute_result"
    }
   ],
   "source": [
    "# 转为字典\n",
    "dict(a='a',b='b'), dict(zip(['a','b','c'],[1,3,3])),dict([('a','f'),(1,3)])"
   ]
  },
  {
   "cell_type": "markdown",
   "metadata": {},
   "source": [
    "## 一键查看对象所有方法\n",
    "- 不带参数时返回 当前范围 内的变量、方法和定义的类型列表；带参数时返回 参数 的属性，方法列表\n",
    "- dir(object)"
   ]
  },
  {
   "cell_type": "markdown",
   "metadata": {},
   "source": [
    "## 取商和余数\n",
    "- 分别取商和余数"
   ]
  },
  {
   "cell_type": "code",
   "execution_count": 19,
   "metadata": {},
   "outputs": [
    {
     "data": {
      "text/plain": [
       "(0, 1)"
      ]
     },
     "execution_count": 19,
     "metadata": {},
     "output_type": "execute_result"
    }
   ],
   "source": [
    "divmod(1,3)"
   ]
  },
  {
   "cell_type": "markdown",
   "metadata": {},
   "source": [
    "##  枚举对象\n",
    "- 返回一个可以枚举的对象，该对象的next()方法将返回一个元组。"
   ]
  },
  {
   "cell_type": "code",
   "execution_count": 20,
   "metadata": {},
   "outputs": [
    {
     "name": "stdout",
     "output_type": "stream",
     "text": [
      "1 a\n",
      "2 b\n",
      "3 c\n"
     ]
    }
   ],
   "source": [
    "s = [\"a\",\"b\",\"c\"]\n",
    "for i ,v in enumerate(s,1):\n",
    "    print(i,v)"
   ]
  },
  {
   "cell_type": "markdown",
   "metadata": {},
   "source": [
    "## 计算表达式\n",
    "- 将字符串str 当成有效的表达式来求值并返回计算结果取出字符串中内容\n",
    "```\n",
    "eval(\"2+3+4\")\n",
    "```"
   ]
  },
  {
   "cell_type": "markdown",
   "metadata": {},
   "source": [
    "##  查看变量所占字节数"
   ]
  },
  {
   "cell_type": "code",
   "execution_count": 22,
   "metadata": {},
   "outputs": [
    {
     "data": {
      "text/plain": [
       "240"
      ]
     },
     "execution_count": 22,
     "metadata": {},
     "output_type": "execute_result"
    }
   ],
   "source": [
    "import sys\n",
    "a = {'a':1,'b':2.0} \n",
    "sys.getsizeof(a) # 占用240个字节"
   ]
  },
  {
   "cell_type": "markdown",
   "metadata": {},
   "source": [
    "## 过滤器\n",
    "- 在函数中设定过滤条件，迭代元素，保留返回值为 True 的元素："
   ]
  },
  {
   "cell_type": "code",
   "execution_count": 23,
   "metadata": {},
   "outputs": [
    {
     "data": {
      "text/plain": [
       "[11, 45, 13]"
      ]
     },
     "execution_count": 23,
     "metadata": {},
     "output_type": "execute_result"
    }
   ],
   "source": [
    "fil = filter(lambda x: x>10,[1,11,2,45,7,6,13])\n",
    "\n",
    "list(fil)"
   ]
  },
  {
   "cell_type": "markdown",
   "metadata": {},
   "source": [
    "## 转为浮点类型"
   ]
  },
  {
   "cell_type": "code",
   "execution_count": 25,
   "metadata": {},
   "outputs": [
    {
     "data": {
      "text/plain": [
       "4.0"
      ]
     },
     "execution_count": 25,
     "metadata": {},
     "output_type": "execute_result"
    }
   ],
   "source": [
    "float(4)"
   ]
  },
  {
   "cell_type": "markdown",
   "metadata": {},
   "source": [
    "## 不用else和if实现计算器"
   ]
  },
  {
   "cell_type": "code",
   "execution_count": 27,
   "metadata": {},
   "outputs": [
    {
     "data": {
      "text/plain": [
       "81"
      ]
     },
     "execution_count": 27,
     "metadata": {},
     "output_type": "execute_result"
    }
   ],
   "source": [
    "from operator import * \n",
    "def calculator(a, b, k): \n",
    "    return { '+': add, '-': \n",
    "            sub, '*': mul, \n",
    "            '/': truediv, \n",
    "            '**': pow }[k](a, b) \n",
    "calculator(1, 2, '+') # 3 \n",
    "calculator(3, 4, '**') # 81"
   ]
  },
  {
   "cell_type": "markdown",
   "metadata": {},
   "source": [
    "# 链式操作"
   ]
  },
  {
   "cell_type": "code",
   "execution_count": 28,
   "metadata": {},
   "outputs": [
    {
     "data": {
      "text/plain": [
       "-1"
      ]
     },
     "execution_count": 28,
     "metadata": {},
     "output_type": "execute_result"
    }
   ],
   "source": [
    "from operator import (add, sub) \n",
    "def add_or_sub(a, b, oper): \n",
    "    return (add if oper == '+' else sub)(a, b) \n",
    "add_or_sub(1, 2, '-') # -1"
   ]
  },
  {
   "cell_type": "markdown",
   "metadata": {},
   "source": [
    "# 全展开"
   ]
  },
  {
   "cell_type": "code",
   "execution_count": 8,
   "metadata": {
    "tags": []
   },
   "outputs": [
    {
     "output_type": "stream",
     "name": "stdout",
     "text": "[1, 2, 3, 4, 5]\n[1, 2, 3, 4, 3, 2, 4, 5]\n"
    },
    {
     "output_type": "execute_result",
     "data": {
      "text/plain": "(None, None)"
     },
     "metadata": {},
     "execution_count": 8
    }
   ],
   "source": [
    "from collections.abc import *\n",
    "def flatten(lft,out_lst=None):\n",
    "    if out_lst is None:\n",
    "        out_lst = []\n",
    "    for i in lft:\n",
    "        if isinstance(i ,Iterable):\n",
    "            flatten(i,out_lst)\n",
    "        else:\n",
    "            out_lst.append(i)\n",
    "    return out_lst\n",
    "\n",
    "print(flatten([[1,2,3],[4,5]])) ,print(flatten([[1,2,3,4,3,2],[4,5]]))"
   ]
  },
  {
   "cell_type": "markdown",
   "metadata": {},
   "source": [
    "## 更长列表"
   ]
  },
  {
   "cell_type": "code",
   "execution_count": 9,
   "metadata": {},
   "outputs": [],
   "source": [
    "def max_len(*lst):\n",
    "    return max(*lst,key=lambda v :len(v))\n"
   ]
  },
  {
   "cell_type": "code",
   "execution_count": 10,
   "metadata": {},
   "outputs": [
    {
     "output_type": "execute_result",
     "data": {
      "text/plain": "[3, 2, 4, 3, 4, 4, 4]"
     },
     "metadata": {},
     "execution_count": 10
    }
   ],
   "source": [
    "max_len([3,3,4,5],[3,2,4,3,4,4,4],[3,3])"
   ]
  },
  {
   "cell_type": "markdown",
   "metadata": {},
   "source": [
    "## 求众数"
   ]
  },
  {
   "cell_type": "code",
   "execution_count": 11,
   "metadata": {},
   "outputs": [],
   "source": [
    "def top(*lst):\n",
    "    return max(*lst,key=lambda v:lst.count(v))"
   ]
  },
  {
   "cell_type": "code",
   "execution_count": 14,
   "metadata": {
    "tags": []
   },
   "outputs": [
    {
     "output_type": "stream",
     "name": "stdout",
     "text": "2\n"
    }
   ],
   "source": [
    "print( top([2,3,4,5,3,2,2,4,4,2,2,5]))"
   ]
  },
  {
   "cell_type": "markdown",
   "metadata": {},
   "source": [
    "# 斐波那契数列前n项斐波那契数列前n项"
   ]
  },
  {
   "cell_type": "code",
   "execution_count": 9,
   "metadata": {},
   "outputs": [],
   "source": [
    "class Solution:\n",
    "\n",
    "\n",
    "    def fabonacci1(self,n):\n",
    "\n",
    "        if n ==0 or n== 1:\n",
    "            return 1\n",
    "        return self.fabonacci1(n-1) + self.fabonacci1(n-2)\n",
    "\n",
    "    def fabonacci(self,n):\n",
    "        lst=[]\n",
    "        f,a,b=0,0,1\n",
    "        while f<n:\n",
    "            lst.append(b)\n",
    "            a,b=b,a+b\n",
    "            f=f+1\n",
    "        return lst\n",
    "    def fabonacci2(self,n):\n",
    "        if n<=2:\n",
    "            return n\n",
    "        dp=[0]*n\n",
    "        dp[0]=1\n",
    "        dp[1]=1\n",
    "        for i in range(2,n):\n",
    "            dp[i]=dp[i-1]+dp[i-2]\n",
    "\n",
    "        return dp[n-1]\n",
    "\n"
   ]
  },
  {
   "cell_type": "markdown",
   "metadata": {},
   "source": [
    "**yield 的作用就是把一个函数变成一个 generator，带有 yield 的函数不再是一个普通函数，Python 解释器会将其视为一个 generator，调用 fab(5) 不会执行 fab 函数，而是返回一个 iterable 对象yield 的作用就是把一个函数变成一个 generator，带有 yield 的函数不再是一个普通函数，Python 解释器会将其视为一个 generator，调用 fab(5) 不会执行 fab 函数，而是返回一个 iterable 对象**"
   ]
  },
  {
   "cell_type": "code",
   "execution_count": null,
   "metadata": {},
   "outputs": [],
   "source": [
    "\n",
    "def fabonacci(n):\n",
    "    a,b=1,1\n",
    "    for _ in range(n):\n",
    "        yield a\n",
    "        a,b=b,a+b\n",
    "list(fabonacci(5))"
   ]
  },
  {
   "cell_type": "code",
   "execution_count": 11,
   "metadata": {},
   "outputs": [
    {
     "output_type": "execute_result",
     "data": {
      "text/plain": "5"
     },
     "metadata": {},
     "execution_count": 11
    }
   ],
   "source": [
    " Solution().fabonacci2(5)"
   ]
  },
  {
   "cell_type": "markdown",
   "metadata": {},
   "source": [
    "# 联合统计数目\n"
   ]
  },
  {
   "cell_type": "code",
   "execution_count": 34,
   "metadata": {},
   "outputs": [
    {
     "output_type": "execute_result",
     "data": {
      "text/plain": "Counter({'apple': 1, 'orange': 2, 'pie': 2, 'banana': 1, 'tea': 1})"
     },
     "metadata": {},
     "execution_count": 34
    }
   ],
   "source": [
    "from collections import Counter\n",
    "a = ['apple','orange','pie']\n",
    "b=['orange','pie','banana','tea']\n",
    "\n",
    "ca,cb=Counter(a),Counter(b)\n",
    "ca+cb"
   ]
  },
  {
   "cell_type": "markdown",
   "metadata": {},
   "source": [
    "## 二分查找\n",
    "\n"
   ]
  },
  {
   "cell_type": "code",
   "execution_count": 18,
   "metadata": {},
   "outputs": [
    {
     "output_type": "execute_result",
     "data": {
      "text/plain": "2"
     },
     "metadata": {},
     "execution_count": 18
    }
   ],
   "source": [
    "def binarySearch(nums,x):\n",
    "    left,right =0,len(nums)\n",
    "\n",
    "    while left <=right:\n",
    "\n",
    "        mid =int (left +(right -left)/2)\n",
    "        if mid >= len(nums):\n",
    "            return -1\n",
    "\n",
    "        if nums[mid] == x:\n",
    "            return mid \n",
    "        if nums[mid] < x:\n",
    "            left = mid+1\n",
    "        elif nums[mid] > x:\n",
    "            right =mid -1\n",
    "\n",
    "    return -1\n",
    "\n",
    "binarySearch([1,2,3,4,5,6,7,8,9],3)"
   ]
  },
  {
   "cell_type": "code",
   "execution_count": null,
   "metadata": {},
   "outputs": [],
   "source": []
  }
 ],
 "metadata": {
  "kernelspec": {
   "display_name": "Python 3",
   "language": "python",
   "name": "python3"
  },
  "language_info": {
   "codemirror_mode": {
    "name": "ipython",
    "version": 3
   },
   "file_extension": ".py",
   "mimetype": "text/x-python",
   "name": "python",
   "nbconvert_exporter": "python",
   "pygments_lexer": "ipython3",
   "version": "3.8.3-final"
  }
 },
 "nbformat": 4,
 "nbformat_minor": 4
}